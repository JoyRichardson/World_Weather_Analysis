{
 "cells": [
  {
   "cell_type": "code",
   "execution_count": 1,
   "id": "6932cba5-d796-44b1-912e-2883aedd940f",
   "metadata": {},
   "outputs": [],
   "source": [
    "# Import the random module.\n",
    "import random"
   ]
  },
  {
   "cell_type": "code",
   "execution_count": 2,
   "id": "7db3340a-3ff2-442c-825c-18da06476c76",
   "metadata": {},
   "outputs": [
    {
     "data": {
      "text/plain": [
       "-35"
      ]
     },
     "execution_count": 2,
     "metadata": {},
     "output_type": "execute_result"
    }
   ],
   "source": [
    "random.randint(-90,90)"
   ]
  },
  {
   "cell_type": "code",
   "execution_count": 3,
   "id": "5592a81e-25a5-4db2-8d76-9e4ba8d5c96f",
   "metadata": {},
   "outputs": [
    {
     "data": {
      "text/plain": [
       "0.6106207863065276"
      ]
     },
     "execution_count": 3,
     "metadata": {},
     "output_type": "execute_result"
    }
   ],
   "source": [
    "random.random()"
   ]
  },
  {
   "cell_type": "code",
   "execution_count": 4,
   "id": "053ff06b-0838-4452-b8ac-ad2d5c2e2530",
   "metadata": {},
   "outputs": [],
   "source": [
    "x = 1\n",
    "latitudes = []\n",
    "while x < 11:\n",
    "    random_lat = random.randint(-90, 89) + random.random()\n",
    "    latitudes.append(random_lat)\n",
    "    x += 1"
   ]
  },
  {
   "cell_type": "code",
   "execution_count": 5,
   "id": "4ecdc3a2-b86d-4f2b-9b9b-c223af877075",
   "metadata": {},
   "outputs": [
    {
     "data": {
      "text/plain": [
       "[7.363270403871326,\n",
       " -28.496344887218843,\n",
       " -65.25231537364434,\n",
       " 71.28709150823197,\n",
       " 66.45976283923416,\n",
       " 32.46062029946708,\n",
       " 51.68490484527782,\n",
       " -20.702188343757072,\n",
       " 48.80181263278781,\n",
       " -57.25928115261723]"
      ]
     },
     "execution_count": 5,
     "metadata": {},
     "output_type": "execute_result"
    }
   ],
   "source": [
    "latitudes"
   ]
  },
  {
   "cell_type": "code",
   "execution_count": 6,
   "id": "6fa14752-671b-419e-88cd-ceb767f83f8c",
   "metadata": {},
   "outputs": [
    {
     "data": {
      "text/plain": [
       "80"
      ]
     },
     "execution_count": 6,
     "metadata": {},
     "output_type": "execute_result"
    }
   ],
   "source": [
    "random.randrange(-90, 90, step=1)"
   ]
  },
  {
   "cell_type": "code",
   "execution_count": 7,
   "id": "1611b817-f662-4e69-a200-eb647a68c740",
   "metadata": {},
   "outputs": [
    {
     "data": {
      "text/plain": [
       "-30"
      ]
     },
     "execution_count": 7,
     "metadata": {},
     "output_type": "execute_result"
    }
   ],
   "source": [
    "random.randrange(-90, 90, step=3)"
   ]
  },
  {
   "cell_type": "code",
   "execution_count": 8,
   "id": "c0f10d3f-e399-4234-b394-77cb4dc9e61f",
   "metadata": {},
   "outputs": [
    {
     "data": {
      "text/plain": [
       "60.91730074659961"
      ]
     },
     "execution_count": 8,
     "metadata": {},
     "output_type": "execute_result"
    }
   ],
   "source": [
    "random.uniform(-90, 90)"
   ]
  },
  {
   "cell_type": "code",
   "execution_count": 9,
   "id": "b907cc18-9be6-45cc-b425-206b510b1b72",
   "metadata": {},
   "outputs": [],
   "source": [
    "# Import the NumPy module.\n",
    "import numpy as np"
   ]
  },
  {
   "cell_type": "code",
   "execution_count": 10,
   "id": "2844974a-404d-4f5a-ade1-42b26f9d73ed",
   "metadata": {},
   "outputs": [
    {
     "data": {
      "text/plain": [
       "22.497408218712692"
      ]
     },
     "execution_count": 10,
     "metadata": {},
     "output_type": "execute_result"
    }
   ],
   "source": [
    "np.random.uniform(-90.000, 90.000)"
   ]
  },
  {
   "cell_type": "code",
   "execution_count": 11,
   "id": "7e4c6aad-1c59-4c27-bf46-cddf99fa6ec4",
   "metadata": {},
   "outputs": [
    {
     "data": {
      "text/plain": [
       "-37.41008298338714"
      ]
     },
     "execution_count": 11,
     "metadata": {},
     "output_type": "execute_result"
    }
   ],
   "source": [
    "np.random.uniform(low=-90, high=90)"
   ]
  },
  {
   "cell_type": "code",
   "execution_count": 12,
   "id": "7df3aaed-27fa-4f69-b49e-6f603df50ba7",
   "metadata": {},
   "outputs": [
    {
     "data": {
      "text/plain": [
       "array([ -1.81621473,  -0.16173614,  28.29288792,   9.82876051,\n",
       "         8.71420947,  27.14867375,  75.99610334, -26.07560625,\n",
       "        -0.749363  , -21.38824113,  49.51281258,  87.37828044,\n",
       "       -53.21160934, -21.86010482, -65.86880583, -78.56928163,\n",
       "        27.91806137, -78.03629326, -50.85894922,  -9.00642271,\n",
       "        23.80051691,  29.84253747,  77.75886278,  26.03250611,\n",
       "       -40.8930588 , -53.73743343, -57.46037704,  80.16001095,\n",
       "        23.66864705, -41.11202308, -57.68209044,  40.6030086 ,\n",
       "       -78.05073163,  85.68365996,   1.59188265, -41.81644948,\n",
       "       -71.43430287,  -6.30368526, -25.85705659,   3.597131  ,\n",
       "        73.90397012,  50.68363005,  24.60810455, -12.7453196 ,\n",
       "         4.81071008, -15.12500736,  87.75646678, -71.91350222,\n",
       "        -4.01666789,  53.08660308])"
      ]
     },
     "execution_count": 12,
     "metadata": {},
     "output_type": "execute_result"
    }
   ],
   "source": [
    "np.random.uniform(-90.000, 90.000, size=50)"
   ]
  },
  {
   "cell_type": "code",
   "execution_count": 13,
   "id": "8505b913-fb8a-4dc3-83fd-051c176088af",
   "metadata": {},
   "outputs": [],
   "source": [
    "# Import timeit.\n",
    "import timeit"
   ]
  },
  {
   "cell_type": "code",
   "execution_count": 14,
   "id": "4137a6f8-f2cc-46f7-b7ac-738607deb372",
   "metadata": {},
   "outputs": [
    {
     "name": "stdout",
     "output_type": "stream",
     "text": [
      "15.4 µs ± 96.8 ns per loop (mean ± std. dev. of 7 runs, 100000 loops each)\n"
     ]
    }
   ],
   "source": [
    "%timeit np.random.uniform(-90.000, 90.000, size=1500)"
   ]
  },
  {
   "cell_type": "code",
   "execution_count": 15,
   "id": "76214cc7-f515-4977-82bc-d8dde1f911f8",
   "metadata": {},
   "outputs": [
    {
     "name": "stdout",
     "output_type": "stream",
     "text": [
      "1.79 ms ± 58.7 µs per loop (mean ± std. dev. of 7 runs, 1000 loops each)\n"
     ]
    }
   ],
   "source": [
    "def latitudes(size):\n",
    "    latitudes = []\n",
    "    x = 0\n",
    "    while x < (size):\n",
    "        random_lat = random.randint(-90, 90) + random.random()\n",
    "        latitudes.append(random_lat)\n",
    "        x += 1\n",
    "    return latitudes\n",
    "# Call the function with 1500.\n",
    "%timeit latitudes(1500)"
   ]
  },
  {
   "cell_type": "code",
   "execution_count": null,
   "id": "26f0b873-f6c0-4a54-8b89-16f4d4c7af8c",
   "metadata": {},
   "outputs": [],
   "source": []
  }
 ],
 "metadata": {
  "kernelspec": {
   "display_name": "PyData",
   "language": "python",
   "name": "pydata"
  },
  "language_info": {
   "codemirror_mode": {
    "name": "ipython",
    "version": 3
   },
   "file_extension": ".py",
   "mimetype": "text/x-python",
   "name": "python",
   "nbconvert_exporter": "python",
   "pygments_lexer": "ipython3",
   "version": "3.8.10"
  }
 },
 "nbformat": 4,
 "nbformat_minor": 5
}
